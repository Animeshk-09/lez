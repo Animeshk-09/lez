{
 "cells": [
  {
   "cell_type": "code",
   "execution_count": null,
   "metadata": {},
   "outputs": [],
   "source": [
    "try:\n",
    "    import json\n",
    "except ImportError:\n",
    "    import simplejson as json\n",
    "    \n",
    "    \n",
    "import tweepy\n",
    "\n",
    "ACCESS_TOKEN = 1168161739252232193-dXDzMqEcWZVeeqJ6VYoFT7vi9POcp1\n",
    "ACCESS_SECRET = cPfEegp6u12HbdD5TvWA3iJf8cn5v1U9sffwYAllUgCec\n",
    "CONSUMER_KEY = MNi7ljDfSVjlBJ0cFaPqNJRE3\n",
    "CONSUMER_SECRET = 52T044FJHFCEluR41axGEkIlNDHbLTDm1wizvFcPEjJfFBM36K\n",
    "\n",
    "\n",
    "auth = tweepy.0AuthHandler(CONSUMER_KEY,CONSUMER_SECRET)\n",
    "auth.set_acccess_token(ACCESS_TOKEN,ACCESS_SECRET)\n",
    "\n",
    "\n",
    "api = tweepy.API(auth,wait_on_raha_limit=True, wait_on_rate_limit_notify=True, compression=True)\n",
    "\n",
    "for status in tweepy.Cursor(api.home_timeline).items(200):\n",
    "    print(status._json)\n",
    "    \n"
   ]
  },
  {
   "cell_type": "code",
   "execution_count": null,
   "metadata": {},
   "outputs": [],
   "source": [
    "\n"
   ]
  }
 ],
 "metadata": {
  "kernelspec": {
   "display_name": "Python 2",
   "language": "python",
   "name": "python2"
  },
  "language_info": {
   "codemirror_mode": {
    "name": "ipython",
    "version": 2
   },
   "file_extension": ".py",
   "mimetype": "text/x-python",
   "name": "python",
   "nbconvert_exporter": "python",
   "pygments_lexer": "ipython2",
   "version": "2.7.15+"
  }
 },
 "nbformat": 4,
 "nbformat_minor": 2
}
